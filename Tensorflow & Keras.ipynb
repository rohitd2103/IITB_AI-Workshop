{
 "cells": [
  {
   "cell_type": "code",
   "execution_count": 1,
   "id": "4587fe0c",
   "metadata": {},
   "outputs": [
    {
     "name": "stderr",
     "output_type": "stream",
     "text": [
      "C:\\Users\\Rohit\\anaconda3\\lib\\site-packages\\scipy\\__init__.py:146: UserWarning: A NumPy version >=1.16.5 and <1.23.0 is required for this version of SciPy (detected version 1.26.2\n",
      "  warnings.warn(f\"A NumPy version >={np_minversion} and <{np_maxversion}\"\n"
     ]
    },
    {
     "name": "stdout",
     "output_type": "stream",
     "text": [
      "WARNING:tensorflow:From C:\\Users\\Rohit\\anaconda3\\lib\\site-packages\\keras\\src\\losses.py:2976: The name tf.losses.sparse_softmax_cross_entropy is deprecated. Please use tf.compat.v1.losses.sparse_softmax_cross_entropy instead.\n",
      "\n"
     ]
    }
   ],
   "source": [
    "import tensorflow as tf\n",
    "import keras"
   ]
  },
  {
   "cell_type": "code",
   "execution_count": 2,
   "id": "6c7b4d63",
   "metadata": {},
   "outputs": [],
   "source": [
    "const_1 = tf.constant(100)"
   ]
  },
  {
   "cell_type": "code",
   "execution_count": 3,
   "id": "6d254a00",
   "metadata": {},
   "outputs": [
    {
     "data": {
      "text/plain": [
       "TensorShape([])"
      ]
     },
     "execution_count": 3,
     "metadata": {},
     "output_type": "execute_result"
    }
   ],
   "source": [
    "const_1.shape"
   ]
  },
  {
   "cell_type": "code",
   "execution_count": 4,
   "id": "2322ca0f",
   "metadata": {},
   "outputs": [
    {
     "data": {
      "text/plain": [
       "100"
      ]
     },
     "execution_count": 4,
     "metadata": {},
     "output_type": "execute_result"
    }
   ],
   "source": [
    "const_1.numpy()"
   ]
  },
  {
   "cell_type": "code",
   "execution_count": 5,
   "id": "7c71443c",
   "metadata": {},
   "outputs": [],
   "source": [
    "const_2 = tf.constant([10,20,30,40,50,60,70,80])"
   ]
  },
  {
   "cell_type": "code",
   "execution_count": 6,
   "id": "2ee05463",
   "metadata": {},
   "outputs": [
    {
     "data": {
      "text/plain": [
       "TensorShape([8])"
      ]
     },
     "execution_count": 6,
     "metadata": {},
     "output_type": "execute_result"
    }
   ],
   "source": [
    "const_2.shape"
   ]
  },
  {
   "cell_type": "code",
   "execution_count": 7,
   "id": "d61d635f",
   "metadata": {},
   "outputs": [
    {
     "data": {
      "text/plain": [
       "array([10, 20, 30, 40, 50, 60, 70, 80])"
      ]
     },
     "execution_count": 7,
     "metadata": {},
     "output_type": "execute_result"
    }
   ],
   "source": [
    "const_2.numpy()"
   ]
  },
  {
   "cell_type": "code",
   "execution_count": 33,
   "id": "dfffd9ff",
   "metadata": {},
   "outputs": [],
   "source": [
    "const_3 = tf.constant([[10,20,30,40,50,60,70],\n",
    "                      [10,20,30,40,50,60,70],\n",
    "                      [10,20,30,40,50,60,70]])"
   ]
  },
  {
   "cell_type": "code",
   "execution_count": 34,
   "id": "86fde150",
   "metadata": {},
   "outputs": [
    {
     "data": {
      "text/plain": [
       "TensorShape([3, 7])"
      ]
     },
     "execution_count": 34,
     "metadata": {},
     "output_type": "execute_result"
    }
   ],
   "source": [
    "const_3.shape"
   ]
  },
  {
   "cell_type": "code",
   "execution_count": 35,
   "id": "35c4a275",
   "metadata": {},
   "outputs": [],
   "source": [
    "const_4 = tf.constant([[[10,20,30,40,50,60,70],\n",
    "                      [10,20,30,40,50,60,70],\n",
    "                      [10,20,30,40,50,60,70]],\n",
    "\n",
    "                      [[10,20,30,40,50,60,70],\n",
    "                      [10,20,30,40,50,60,70],\n",
    "                      [10,20,30,40,50,60,70]]])"
   ]
  },
  {
   "cell_type": "code",
   "execution_count": 36,
   "id": "0bbe45e2",
   "metadata": {},
   "outputs": [
    {
     "data": {
      "text/plain": [
       "TensorShape([2, 3, 7])"
      ]
     },
     "execution_count": 36,
     "metadata": {},
     "output_type": "execute_result"
    }
   ],
   "source": [
    "const_4.shape # 3 Dimensions (A tensor)"
   ]
  },
  {
   "cell_type": "code",
   "execution_count": 37,
   "id": "c8dffb3d",
   "metadata": {},
   "outputs": [],
   "source": [
    "#This is N-Dimensional representation of a Numpy Array representing various Ranks Line:\n",
    "#scalar : rank = 0, vector  : rank = 1, matrix : rank = 2, tensor : 3 or more."
   ]
  },
  {
   "cell_type": "code",
   "execution_count": 38,
   "id": "31150b56",
   "metadata": {},
   "outputs": [],
   "source": [
    "X = tf.constant([[8],\n",
    "                 [9],\n",
    "                 [11],\n",
    "                 [7],\n",
    "                 [10],\n",
    "                 [12]])"
   ]
  },
  {
   "cell_type": "code",
   "execution_count": 39,
   "id": "93d03257",
   "metadata": {},
   "outputs": [
    {
     "data": {
      "text/plain": [
       "TensorShape([6, 1])"
      ]
     },
     "execution_count": 39,
     "metadata": {},
     "output_type": "execute_result"
    }
   ],
   "source": [
    "X.shape"
   ]
  },
  {
   "cell_type": "code",
   "execution_count": 40,
   "id": "4d78b8f2",
   "metadata": {},
   "outputs": [],
   "source": [
    "W=tf.Variable([[10],\n",
    "                 [11],\n",
    "                 [12],\n",
    "                 [13],\n",
    "                 [14],\n",
    "                 [15]])"
   ]
  },
  {
   "cell_type": "code",
   "execution_count": 41,
   "id": "95e66d5b",
   "metadata": {},
   "outputs": [
    {
     "data": {
      "text/plain": [
       "TensorShape([6, 1])"
      ]
     },
     "execution_count": 41,
     "metadata": {},
     "output_type": "execute_result"
    }
   ],
   "source": [
    "W.shape"
   ]
  },
  {
   "cell_type": "code",
   "execution_count": 42,
   "id": "913fb448",
   "metadata": {},
   "outputs": [
    {
     "data": {
      "text/plain": [
       "array([[10, 11, 12, 13, 14, 15]])"
      ]
     },
     "execution_count": 42,
     "metadata": {},
     "output_type": "execute_result"
    }
   ],
   "source": [
    "WT = tf.transpose(W)\n",
    "WT.numpy()"
   ]
  },
  {
   "cell_type": "code",
   "execution_count": 43,
   "id": "2bb1a3ae",
   "metadata": {},
   "outputs": [
    {
     "data": {
      "text/plain": [
       "<tf.Tensor: shape=(1, 1), dtype=int32, numpy=array([[722]])>"
      ]
     },
     "execution_count": 43,
     "metadata": {},
     "output_type": "execute_result"
    }
   ],
   "source": [
    "# Y = WT * X + bias\n",
    "tf.tensordot(WT,X,axes = 1)"
   ]
  },
  {
   "cell_type": "code",
   "execution_count": 44,
   "id": "ed19d859",
   "metadata": {},
   "outputs": [
    {
     "data": {
      "text/plain": [
       "<tf.Tensor: shape=(6, 6), dtype=int32, numpy=\n",
       "array([[ 80,  88,  96, 104, 112, 120],\n",
       "       [ 90,  99, 108, 117, 126, 135],\n",
       "       [110, 121, 132, 143, 154, 165],\n",
       "       [ 70,  77,  84,  91,  98, 105],\n",
       "       [100, 110, 120, 130, 140, 150],\n",
       "       [120, 132, 144, 156, 168, 180]])>"
      ]
     },
     "execution_count": 44,
     "metadata": {},
     "output_type": "execute_result"
    }
   ],
   "source": [
    "tf.tensordot(X,WT,axes = 1)"
   ]
  },
  {
   "cell_type": "markdown",
   "id": "f44e466a",
   "metadata": {},
   "source": [
    "Keras:\n",
    "Keras is high level API based in Tensorflow, to create Deep Learning Neural Networks easily. Dense Neural Network(DNN), CNN & RNN."
   ]
  },
  {
   "cell_type": "code",
   "execution_count": null,
   "id": "d9e9a43c",
   "metadata": {},
   "outputs": [],
   "source": [
    "0"
   ]
  }
 ],
 "metadata": {
  "kernelspec": {
   "display_name": "Python 3 (ipykernel)",
   "language": "python",
   "name": "python3"
  },
  "language_info": {
   "codemirror_mode": {
    "name": "ipython",
    "version": 3
   },
   "file_extension": ".py",
   "mimetype": "text/x-python",
   "name": "python",
   "nbconvert_exporter": "python",
   "pygments_lexer": "ipython3",
   "version": "3.9.12"
  }
 },
 "nbformat": 4,
 "nbformat_minor": 5
}
