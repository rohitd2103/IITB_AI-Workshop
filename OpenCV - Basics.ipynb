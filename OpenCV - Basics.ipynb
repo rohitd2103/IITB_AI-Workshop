{
 "cells": [
  {
   "cell_type": "markdown",
   "id": "4cbe82da",
   "metadata": {},
   "source": [
    "Read Image and Convert the image color"
   ]
  },
  {
   "cell_type": "code",
   "execution_count": 7,
   "id": "96493c1a",
   "metadata": {},
   "outputs": [],
   "source": [
    "import cv2"
   ]
  },
  {
   "cell_type": "code",
   "execution_count": 9,
   "id": "79d91230",
   "metadata": {},
   "outputs": [],
   "source": [
    "img = cv2.imread(\"C:/Users/Rohit/Desktop/Images/parrot.jpg\")"
   ]
  },
  {
   "cell_type": "code",
   "execution_count": 10,
   "id": "cd8394e7",
   "metadata": {},
   "outputs": [],
   "source": [
    "#1 Convert TGB Image to Gray Scale\n",
    "img_gray = cv2.cvtColor(img, cv2.COLOR_BGR2GRAY)"
   ]
  },
  {
   "cell_type": "code",
   "execution_count": 14,
   "id": "14a081d1",
   "metadata": {},
   "outputs": [],
   "source": [
    "cv2.imshow('fram1', img)\n",
    "cv2.imshow('frame2', img_gray)\n",
    "#press any key with 0 wait time\n",
    "cv2.waitKey(0)\n",
    "#close all image frame\n",
    "cv2.destroyAllWindows()"
   ]
  },
  {
   "cell_type": "code",
   "execution_count": 16,
   "id": "a14a0020",
   "metadata": {},
   "outputs": [
    {
     "name": "stdout",
     "output_type": "stream",
     "text": [
      "[[0.04 0.04 0.04 0.04 0.04]\n",
      " [0.04 0.04 0.04 0.04 0.04]\n",
      " [0.04 0.04 0.04 0.04 0.04]\n",
      " [0.04 0.04 0.04 0.04 0.04]\n",
      " [0.04 0.04 0.04 0.04 0.04]]\n"
     ]
    }
   ],
   "source": [
    "import cv2\n",
    "\n",
    "img = cv2.imread(\"C:/Users/Rohit/Desktop/Images/mp.jpg\")\n",
    "\n",
    "cv2.imshow('Original', img)\n",
    "# convert BGR format to Grayscale\n",
    "img_g = cv2.cvtColor(img, cv2.COLOR_BGR2GRAY)\n",
    "\n",
    "# Canny(image, threshold1, threshold2)\n",
    "# Computing Edge Gradient with canny thresholds\n",
    "# The edge gradients that are greater tha threshold value will be detected as Edges\n",
    "# thresholds lower than threshold1 will not be considered as edges.\n",
    "edges_low = cv2.Canny(img_g, 50, 120)\n",
    "cv2.imshow('Edge Detection', edges_low)\n",
    "\n",
    "edges_high = cv2.Canny(img_g, 60, 200)\n",
    "cv2.imshow('High Edge Detection', edges_high)\n",
    "\n",
    "# press any key with 0 wait time\n",
    "cv2.waitKey(0)\n",
    "# Close all imageframe\n",
    "cv2.destroyAllWindows()"
   ]
  },
  {
   "cell_type": "code",
   "execution_count": 19,
   "id": "3e6df629",
   "metadata": {},
   "outputs": [
    {
     "name": "stdout",
     "output_type": "stream",
     "text": [
      "[[0.04 0.04 0.04 0.04 0.04]\n",
      " [0.04 0.04 0.04 0.04 0.04]\n",
      " [0.04 0.04 0.04 0.04 0.04]\n",
      " [0.04 0.04 0.04 0.04 0.04]\n",
      " [0.04 0.04 0.04 0.04 0.04]]\n"
     ]
    },
    {
     "data": {
      "text/plain": [
       "-1"
      ]
     },
     "execution_count": 19,
     "metadata": {},
     "output_type": "execute_result"
    }
   ],
   "source": [
    "\n",
    "import cv2 \n",
    "import numpy as np\n",
    "\n",
    "img = cv2.imreadimg = cv2.imread(\"C:/Users/Rohit/Desktop/Images/pug.jpg\")\n",
    "\n",
    "# Blur using Filter2D\n",
    "kernel = np.ones((5,5), np.float32) / 25\n",
    "print(kernel)\n",
    "\n",
    "# Filter2D\n",
    "smoothed = cv2.filter2D(img, -1, kernel)\n",
    "\n",
    "# Average Blur\n",
    "img_blur = cv2.blur(img, (5,5))\n",
    "\n",
    "# Median Blur\n",
    "m_blur = cv2.medianBlur(img, 7)\n",
    "\n",
    "# Gaussian Blur, sigmaX(stdDev)= 1\n",
    "g_blur = cv2.GaussianBlur(img, (7,7), 1)\n",
    "\n",
    "\n",
    "cv2.imshow('Original', img)\n",
    "cv2.imshow('Blur', smoothed)\n",
    "cv2.imshow('average', img_blur)\n",
    "cv2.imshow('median', m_blur)\n",
    "cv2.imshow('gaussian', g_blur)\n",
    "\n",
    "# press any key with 0 wait time\n",
    "cv2.waitKey(0)\n",
    "# Close all imageframe"
   ]
  },
  {
   "cell_type": "markdown",
   "id": "96cee712",
   "metadata": {},
   "source": [
    " "
   ]
  }
 ],
 "metadata": {
  "kernelspec": {
   "display_name": "Python 3 (ipykernel)",
   "language": "python",
   "name": "python3"
  },
  "language_info": {
   "codemirror_mode": {
    "name": "ipython",
    "version": 3
   },
   "file_extension": ".py",
   "mimetype": "text/x-python",
   "name": "python",
   "nbconvert_exporter": "python",
   "pygments_lexer": "ipython3",
   "version": "3.9.12"
  }
 },
 "nbformat": 4,
 "nbformat_minor": 5
}
